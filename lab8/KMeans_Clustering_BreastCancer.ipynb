{
 "cells": [
  {
   "cell_type": "code",
   "execution_count": 21,
   "metadata": {},
   "outputs": [],
   "source": [
    "import numpy as np \n",
    "import pandas as pd \n",
    "from sklearn import datasets\n",
    "from sklearn.cluster import KMeans\n",
    "import matplotlib.pyplot as plt"
   ]
  },
  {
   "cell_type": "code",
   "execution_count": 22,
   "metadata": {},
   "outputs": [
    {
     "name": "stdout",
     "output_type": "stream",
     "text": [
      "(569, 30)\n",
      "(569,)\n"
     ]
    }
   ],
   "source": [
    "dataset=datasets.load_breast_cancer()\n",
    "dataset\n",
    "\n",
    "print(dataset.data.shape)\n",
    "print(dataset.target.shape)"
   ]
  },
  {
   "cell_type": "code",
   "execution_count": 23,
   "metadata": {},
   "outputs": [
    {
     "name": "stdout",
     "output_type": "stream",
     "text": [
      "['mean radius' 'mean texture' 'mean perimeter' 'mean area'\n",
      " 'mean smoothness' 'mean compactness' 'mean concavity'\n",
      " 'mean concave points' 'mean symmetry' 'mean fractal dimension'\n",
      " 'radius error' 'texture error' 'perimeter error' 'area error'\n",
      " 'smoothness error' 'compactness error' 'concavity error'\n",
      " 'concave points error' 'symmetry error' 'fractal dimension error'\n",
      " 'worst radius' 'worst texture' 'worst perimeter' 'worst area'\n",
      " 'worst smoothness' 'worst compactness' 'worst concavity'\n",
      " 'worst concave points' 'worst symmetry' 'worst fractal dimension']\n"
     ]
    }
   ],
   "source": [
    "print(dataset.feature_names)"
   ]
  },
  {
   "cell_type": "code",
   "execution_count": 24,
   "metadata": {},
   "outputs": [
    {
     "name": "stdout",
     "output_type": "stream",
     "text": [
      "['malignant' 'benign']\n"
     ]
    }
   ],
   "source": [
    "print(dataset.target_names)"
   ]
  },
  {
   "cell_type": "code",
   "execution_count": 25,
   "metadata": {},
   "outputs": [
    {
     "data": {
      "image/png": "[encoded data removed]",
      "text/plain": [
       "<Figure size 432x288 with 1 Axes>"
      ]
     },
     "metadata": {
      "needs_background": "light"
     },
     "output_type": "display_data"
    }
   ],
   "source": [
    "plt.scatter(dataset.data[:, 0], dataset.target)\n",
    "plt.xlabel('Features')\n",
    "plt.ylabel('Type of cancer') # 1-malignant # 0-benign\n",
    "plt.show()"
   ]
  },
  {
   "cell_type": "code",
   "execution_count": 26,
   "metadata": {},
   "outputs": [
    {
     "name": "stdout",
     "output_type": "stream",
     "text": [
      "[1 1 7 6 7 0 7 0 0 0 5 3 3 5 0 5 5 3 8 0 6 2 5 8 1 3 5 3 3 3 7 0 3 1 3 3 0\n",
      " 6 0 0 0 6 7 0 0 7 2 0 6 0 6 0 6 3 5 6 1 5 6 2 2 2 5 2 0 5 2 6 2 6 1 2 7 0\n",
      " 6 3 6 7 7 6 6 6 4 3 6 7 0 7 6 0 0 5 0 0 5 1 6 2 6 0 5 2 6 2 2 0 6 6 8 6 2\n",
      " 6 0 2 2 6 2 5 3 3 6 7 8 0 0 0 0 7 0 7 6 5 3 5 7 0 6 6 5 6 2 3 6 0 2 6 6 0\n",
      " 0 0 6 2 2 6 0 6 3 5 6 6 6 7 8 6 8 0 2 3 7 0 6 5 5 2 2 2 2 5 6 6 4 1 3 6 5\n",
      " 2 3 6 6 6 0 6 2 0 0 6 0 3 7 5 6 3 8 5 0 5 2 3 0 5 7 6 4 5 0 0 6 2 1 8 0 0\n",
      " 2 5 0 5 2 0 6 0 3 6 6 1 2 0 4 1 0 3 0 6 6 0 7 2 6 6 2 6 1 6 1 3 1 0 1 5 3\n",
      " 5 1 3 3 5 3 4 2 0 6 2 0 6 8 2 3 6 6 3 0 0 7 6 7 5 6 6 6 6 6 6 0 0 6 6 6 0\n",
      " 2 6 0 2 1 6 7 2 6 6 0 2 0 0 6 0 6 6 2 6 6 7 2 6 2 7 6 1 6 6 0 6 5 5 5 6 6\n",
      " 6 6 3 6 1 2 4 0 2 6 7 6 2 6 5 6 6 6 5 4 5 6 6 6 0 2 2 6 0 6 5 0 1 7 6 4 8\n",
      " 3 0 7 1 0 5 2 0 0 6 6 6 6 6 0 0 6 0 6 3 2 2 3 8 6 0 0 6 6 6 3 6 6 6 6 6 5\n",
      " 0 3 6 6 6 2 5 5 6 2 7 6 6 6 0 6 0 2 2 2 6 2 6 0 6 7 7 0 0 6 0 0 0 6 3 0 2\n",
      " 3 6 3 0 0 1 6 7 6 0 6 0 6 0 6 2 7 9 0 6 0 0 0 2 3 6 2 6 5 6 2 6 0 0 6 5 6\n",
      " 0 0 0 5 6 0 7 6 5 6 3 3 6 0 0 6 6 7 1 5 0 6 4 2 2 6 2 5 5 6 0 0 5 5 6 7 7\n",
      " 0 6 2 4 6 0 2 2 0 6 0 6 6 6 0 7 2 1 0 6 2 2 6 0 0 0 0 0 2 2 2 6 2 6 6 2 6\n",
      " 2 2 2 0 6 0 6 5 1 8 7 3 1 2]\n",
      "[[1.38279365e+01 1.91494444e+01 8.97186508e+01 5.90661111e+02\n",
      "  9.34092063e-02 9.92853175e-02 7.18241905e-02 3.98695476e-02\n",
      "  1.74434127e-01 6.17180159e-02 3.04898413e-01 1.10019841e+00\n",
      "  2.20347540e+00 2.61375397e+01 5.79755556e-03 2.41773095e-02\n",
      "  2.77843492e-02 1.08769921e-02 1.78418413e-02 3.51059365e-03\n",
      "  1.55457143e+01 2.57181746e+01 1.02610159e+02 7.42215873e+02\n",
      "  1.27978016e-01 2.61547937e-01 2.59325000e-01 1.09396746e-01\n",
      "  2.83889683e-01 8.44613492e-02]\n",
      " [1.99319231e+01 2.20330769e+01 1.31950000e+02 1.23710000e+03\n",
      "  1.01086538e-01 1.57223846e-01 1.83885000e-01 1.03358077e-01\n",
      "  1.92600000e-01 6.12934615e-02 7.24403846e-01 1.02957308e+00\n",
      "  5.06257692e+00 9.20784615e+01 5.94592308e-03 3.09096154e-02\n",
      "  4.11569231e-02 1.49783846e-02 1.77303846e-02 3.86411538e-03\n",
      "  2.50984615e+01 2.94969231e+01 1.67723077e+02 1.92269231e+03\n",
      "  1.43569231e-01 4.08057692e-01 4.97996154e-01 2.08269231e-01\n",
      "  3.22396154e-01 9.20384615e-02]\n",
      " [9.73218293e+00 1.77415854e+01 6.21885366e+01 2.90591463e+02\n",
      "  9.68318293e-02 8.16114634e-02 4.58635244e-02 1.84159634e-02\n",
      "  1.83691463e-01 6.90581707e-02 2.98315854e-01 1.50651341e+00\n",
      "  2.05055732e+00 1.78766585e+01 1.01134390e-02 2.57784390e-02\n",
      "  3.43888659e-02 1.01834756e-02 2.54907317e-02 5.18631707e-03\n",
      "  1.06992561e+01 2.28543902e+01 6.89584146e+01 3.50034146e+02\n",
      "  1.32730854e-01 1.66539634e-01 1.44692683e-01 5.29096341e-02\n",
      "  2.72664634e-01 8.66247561e-02]\n",
      " [1.72517391e+01 2.14304348e+01 1.13647826e+02 9.28467391e+02\n",
      "  9.92771739e-02 1.33583478e-01 1.39703478e-01 8.11556522e-02\n",
      "  1.90095652e-01 6.09013043e-02 5.73597826e-01 1.28430217e+00\n",
      "  4.11789130e+00 6.26965217e+01 6.39504348e-03 3.04514565e-02\n",
      "  3.78093478e-02 1.50075435e-02 1.98984783e-02 4.04591304e-03\n",
      "  2.05004348e+01 2.86752174e+01 1.36402174e+02 1.29245652e+03\n",
      "  1.37892174e-01 3.22975217e-01 3.88034783e-01 1.69162391e-01\n",
      "  3.10847826e-01 8.52602174e-02]\n",
      " [2.43160000e+01 2.23750000e+01 1.61910000e+02 1.85420000e+03\n",
      "  1.03174000e-01 1.68032000e-01 2.35580000e-01 1.40631000e-01\n",
      "  1.79210000e-01 5.89640000e-02 1.23297000e+00 1.14835000e+00\n",
      "  8.82800000e+00 1.99120000e+02 6.61970000e-03 2.92370000e-02\n",
      "  3.93590000e-02 1.50810000e-02 1.95370000e-02 3.44310000e-03\n",
      "  3.09990000e+01 2.98160000e+01 2.08940000e+02 2.93600000e+03\n",
      "  1.40180000e-01 3.64520000e-01 4.68620000e-01 2.28060000e-01\n",
      "  2.76880000e-01 8.10070000e-02]\n",
      " [1.53616667e+01 1.99164815e+01 1.00654815e+02 7.30896296e+02\n",
      "  1.00472407e-01 1.23691296e-01 1.20185556e-01 6.46442593e-02\n",
      "  1.85512963e-01 6.24681481e-02 3.91979630e-01 1.02468704e+00\n",
      "  2.74309259e+00 3.71290741e+01 6.64714815e-03 2.71289630e-02\n",
      "  3.69051852e-02 1.33385926e-02 1.91141852e-02 3.54596296e-03\n",
      "  1.78677778e+01 2.70461111e+01 1.18500000e+02 9.78003704e+02\n",
      "  1.40248889e-01 3.26780741e-01 3.81785185e-01 1.50627778e-01\n",
      "  3.13044444e-01 8.85816667e-02]\n",
      " [1.20269364e+01 1.80218497e+01 7.72786705e+01 4.45356069e+02\n",
      "  9.33026590e-02 7.88433526e-02 4.43303682e-02 2.55613410e-02\n",
      "  1.75363006e-01 6.24437572e-02 2.76698266e-01 1.22186647e+00\n",
      "  1.96422023e+00 2.03239422e+01 6.97534104e-03 2.05825260e-02\n",
      "  2.39695353e-02 9.77756647e-03 2.07963584e-02 3.30613584e-03\n",
      "  1.32510983e+01 2.39936994e+01 8.61298266e+01 5.37038150e+02\n",
      "  1.26847341e-01 1.87697688e-01 1.70588422e-01 7.65791387e-02\n",
      "  2.78100000e-01 7.91802890e-02]\n",
      " [1.91125641e+01 2.13915385e+01 1.26166667e+02 1.13710256e+03\n",
      "  1.00631538e-01 1.44869744e-01 1.71290000e-01 9.79474359e-02\n",
      "  1.94587179e-01 6.03153846e-02 7.09964103e-01 1.25782821e+00\n",
      "  4.92356410e+00 8.55392308e+01 6.87564103e-03 3.26800000e-02\n",
      "  4.45628205e-02 1.63343077e-02 2.29020513e-02 3.91266667e-03\n",
      "  2.29733333e+01 2.84253846e+01 1.52948718e+02 1.61000000e+03\n",
      "  1.39420513e-01 3.46105128e-01 4.41274359e-01 1.85256410e-01\n",
      "  3.19161538e-01 8.50241026e-02]\n",
      " [2.16750000e+01 2.26625000e+01 1.44733333e+02 1.46675000e+03\n",
      "  1.07715833e-01 1.73916667e-01 2.45833333e-01 1.31065833e-01\n",
      "  1.95425000e-01 6.02741667e-02 9.03566667e-01 1.31857500e+00\n",
      "  6.42233333e+00 1.27005000e+02 7.50666667e-03 4.05083333e-02\n",
      "  5.54833333e-02 1.67533333e-02 1.98733333e-02 4.17350000e-03\n",
      "  2.71833333e+01 3.00241667e+01 1.83983333e+02 2.27191667e+03\n",
      "  1.44983333e-01 4.09366667e-01 5.69216667e-01 2.28475000e-01\n",
      "  3.12266667e-01 8.52466667e-02]\n",
      " [2.74200000e+01 2.62700000e+01 1.86900000e+02 2.50100000e+03\n",
      "  1.08400000e-01 1.98800000e-01 3.63500000e-01 1.68900000e-01\n",
      "  2.06100000e-01 5.62300000e-02 2.54700000e+00 1.30600000e+00\n",
      "  1.86500000e+01 5.42200000e+02 7.65000000e-03 5.37400000e-02\n",
      "  8.05500000e-02 2.59800000e-02 1.69700000e-02 4.55800000e-03\n",
      "  3.60400000e+01 3.13700000e+01 2.51200000e+02 4.25400000e+03\n",
      "  1.35700000e-01 4.25600000e-01 6.83300000e-01 2.62500000e-01\n",
      "  2.64100000e-01 7.42700000e-02]]\n"
     ]
    }
   ],
   "source": [
    "kmeans = KMeans(n_clusters=10, random_state=127)\n",
    "prediction = kmeans.fit_predict(dataset.data)\n",
    "print(prediction)\n",
    "\n",
    "kmeans.cluster_centers_.shape\n",
    "print(kmeans.cluster_centers_)"
   ]
  },
  {
   "cell_type": "code",
   "execution_count": 27,
   "metadata": {},
   "outputs": [
    {
     "data": {
      "image/png": "[encoded data removed]",
      "text/plain": [
       "<Figure size 432x288 with 1 Axes>"
      ]
     },
     "metadata": {
      "needs_background": "light"
     },
     "output_type": "display_data"
    }
   ],
   "source": [
    "plt.scatter(dataset.data[:, 0], dataset.target)\n",
    "plt.scatter(kmeans.cluster_centers_[:, 0], kmeans.cluster_centers_[:, 1],c='red', marker='x')\n",
    "plt.title('Data points and cluster centroids')\n",
    "plt.show()"
   ]
  },
  {
   "cell_type": "code",
   "execution_count": 28,
   "metadata": {},
   "outputs": [],
   "source": [
    "import numpy as np\n",
    "from scipy.stats import mode\n",
    "labels = np.zeros_like(prediction)\n",
    "for i in range(10):\n",
    "  mask = (prediction == i)\n",
    "  labels[mask] = mode(dataset.target[mask])[0]"
   ]
  },
  {
   "cell_type": "code",
   "execution_count": 29,
   "metadata": {},
   "outputs": [
    {
     "data": {
      "text/plain": [
       "0.9050966608084359"
      ]
     },
     "execution_count": 29,
     "metadata": {},
     "output_type": "execute_result"
    }
   ],
   "source": [
    "from sklearn.metrics import accuracy_score\n",
    "accuracy_score(dataset.target, labels)"
   ]
  },
  {
   "cell_type": "code",
   "execution_count": 30,
   "metadata": {},
   "outputs": [
    {
     "data": {
      "text/plain": [
       "Text(91.68, 0.5, 'predicted label')"
      ]
     },
     "execution_count": 30,
     "metadata": {},
     "output_type": "execute_result"
    },
    {
     "data": {
      "image/png": "[encoded data removed]",
      "text/plain": [
       "<Figure size 432x288 with 1 Axes>"
      ]
     },
     "metadata": {
      "needs_background": "light"
     },
     "output_type": "display_data"
    }
   ],
   "source": [
    "from sklearn.metrics import confusion_matrix\n",
    "import seaborn as sns\n",
    "mat = confusion_matrix(dataset.target, labels)\n",
    "ax = sns.heatmap(mat.T, square=True, annot=True, fmt='d', cbar=False,xticklabels=dataset.target_names,yticklabels=dataset.target_names)\n",
    "\n",
    "#ax.set_ylim(10,10)\n",
    "plt.xlabel('true label')\n",
    "plt.ylabel('predicted label')"
   ]
  },
  {
   "cell_type": "code",
   "execution_count": null,
   "metadata": {},
   "outputs": [],
   "source": []
  }
 ],
 "metadata": {
  "kernelspec": {
   "display_name": "Python 3",
   "language": "python",
   "name": "python3"
  },
  "language_info": {
   "codemirror_mode": {
    "name": "ipython",
    "version": 3
   },
   "file_extension": ".py",
   "mimetype": "text/x-python",
   "name": "python",
   "nbconvert_exporter": "python",
   "pygments_lexer": "ipython3",
   "version": "3.8.3"
  }
 },
 "nbformat": 4,
 "nbformat_minor": 5
}
