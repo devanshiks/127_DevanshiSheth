{
 "cells": [
  {
   "cell_type": "code",
   "execution_count": 1,
   "metadata": {
    "_cell_guid": "79c7e3d0-c299-4dcb-8224-4455121ee9b0",
    "_uuid": "d629ff2d2480ee46fbb7e2d37f6b5fab8052498a",
    "colab": {},
    "colab_type": "code",
    "executionInfo": {
     "elapsed": 1604,
     "status": "ok",
     "timestamp": 1596557525423,
     "user": {
      "displayName": "Prof. Hariom Pandya",
      "photoUrl": "https://lh3.googleusercontent.com/a-/AOh14Ggt3sg6X_951s0boD3SSJvqRng4AQaC3MhTBtGQ9Q=s64",
      "userId": "16159546014304882594"
     },
     "user_tz": -330
    },
    "id": "v0BtAX1--7l_"
   },
   "outputs": [],
   "source": [
    "# Import Numpy & PyTorch\n",
    "import numpy as np\n",
    "import torch"
   ]
  },
  {
   "cell_type": "markdown",
   "metadata": {
    "_uuid": "ecc6e79cdfb6a8ca882895ccc895b61b960b0a04",
    "colab_type": "text",
    "id": "i1HSrBDb-7t9"
   },
   "source": [
    "## Linear Regression Model using PyTorch built-ins\n",
    "\n",
    "Let's re-implement the same model using some built-in functions and classes from PyTorch.\n",
    "\n",
    "And now using two different targets: Apples and Oranges"
   ]
  },
  {
   "cell_type": "code",
   "execution_count": 2,
   "metadata": {
    "_uuid": "ce66cf0d09a3f38bf2f00ea40418c56d98f1f814",
    "colab": {},
    "colab_type": "code",
    "executionInfo": {
     "elapsed": 2201,
     "status": "ok",
     "timestamp": 1596557526042,
     "user": {
      "displayName": "Prof. Hariom Pandya",
      "photoUrl": "https://lh3.googleusercontent.com/a-/AOh14Ggt3sg6X_951s0boD3SSJvqRng4AQaC3MhTBtGQ9Q=s64",
      "userId": "16159546014304882594"
     },
     "user_tz": -330
    },
    "id": "iXiEK54j-7t-"
   },
   "outputs": [],
   "source": [
    "# Imports\n",
    "import torch.nn as nn"
   ]
  },
  {
   "cell_type": "code",
   "execution_count": 3,
   "metadata": {
    "_uuid": "74bb18bd01ac809079eeb8d05695206e8ba02069",
    "colab": {},
    "colab_type": "code",
    "executionInfo": {
     "elapsed": 2186,
     "status": "ok",
     "timestamp": 1596557526045,
     "user": {
      "displayName": "Prof. Hariom Pandya",
      "photoUrl": "https://lh3.googleusercontent.com/a-/AOh14Ggt3sg6X_951s0boD3SSJvqRng4AQaC3MhTBtGQ9Q=s64",
      "userId": "16159546014304882594"
     },
     "user_tz": -330
    },
    "id": "wCsxgTWO-7uM"
   },
   "outputs": [],
   "source": [
    "# Input (temp, rainfall, humidity)\n",
    "inputs = np.array([[73, 67, 43], [91, 88, 64], [87, 134, 58], [102, 43, 37], [69, 96, 70], [73, 67, 43], [91, 88, 64], [87, 134, 58], [102, 43, 37], [69, 96, 70], [73, 67, 43], [91, 88, 64], [87, 134, 58], [102, 43, 37], [69, 96, 70]], dtype='float32')\n",
    "# Targets (apples, oranges)\n",
    "targets = np.array([[56, 70], [81, 101], [119, 133], [22, 37], [103, 119], \n",
    "                    [56, 70], [81, 101], [119, 133], [22, 37], [103, 119], \n",
    "                    [56, 70], [81, 101], [119, 133], [22, 37], [103, 119]], dtype='float32')"
   ]
  },
  {
   "cell_type": "code",
   "execution_count": 4,
   "metadata": {
    "_uuid": "d94b355f55250e9c7dcff668920f02d7c5c04925",
    "colab": {},
    "colab_type": "code",
    "executionInfo": {
     "elapsed": 2169,
     "status": "ok",
     "timestamp": 1596557526049,
     "user": {
      "displayName": "Prof. Hariom Pandya",
      "photoUrl": "https://lh3.googleusercontent.com/a-/AOh14Ggt3sg6X_951s0boD3SSJvqRng4AQaC3MhTBtGQ9Q=s64",
      "userId": "16159546014304882594"
     },
     "user_tz": -330
    },
    "id": "nJRlm4-N-7uY"
   },
   "outputs": [],
   "source": [
    "inputs = torch.from_numpy(inputs)\n",
    "targets = torch.from_numpy(targets)"
   ]
  },
  {
   "cell_type": "markdown",
   "metadata": {
    "_uuid": "a0665466eb5401f40a816b323a34450b2c052c41",
    "colab_type": "text",
    "id": "O6JT5Ng6-7uj"
   },
   "source": [
    "### Dataset and DataLoader\n",
    "\n",
    "We'll create a `TensorDataset`, which allows access to rows from `inputs` and `targets` as tuples. We'll also create a DataLoader, to split the data into batches while training. It also provides other utilities like shuffling and sampling."
   ]
  },
  {
   "cell_type": "code",
   "execution_count": 5,
   "metadata": {
    "_uuid": "206f5fd0473386476b23477bf38d2c327b6376c9",
    "colab": {},
    "colab_type": "code",
    "executionInfo": {
     "elapsed": 2156,
     "status": "ok",
     "timestamp": 1596557526052,
     "user": {
      "displayName": "Prof. Hariom Pandya",
      "photoUrl": "https://lh3.googleusercontent.com/a-/AOh14Ggt3sg6X_951s0boD3SSJvqRng4AQaC3MhTBtGQ9Q=s64",
      "userId": "16159546014304882594"
     },
     "user_tz": -330
    },
    "id": "iGYdbuWc-7ul"
   },
   "outputs": [],
   "source": [
    "# Import tensor dataset & data loader\n",
    "from torch.utils.data import TensorDataset, DataLoader"
   ]
  },
  {
   "cell_type": "code",
   "execution_count": 6,
   "metadata": {
    "_uuid": "c47a4f2f86fda3918094e01cf7ab0698bbb5acc7",
    "colab": {},
    "colab_type": "code",
    "executionInfo": {
     "elapsed": 2147,
     "status": "ok",
     "timestamp": 1596557526056,
     "user": {
      "displayName": "Prof. Hariom Pandya",
      "photoUrl": "https://lh3.googleusercontent.com/a-/AOh14Ggt3sg6X_951s0boD3SSJvqRng4AQaC3MhTBtGQ9Q=s64",
      "userId": "16159546014304882594"
     },
     "user_tz": -330
    },
    "id": "LY_cq6Bf-7ux"
   },
   "outputs": [
    {
     "data": {
      "text/plain": [
       "(tensor([[ 73.,  67.,  43.],\n",
       "         [ 91.,  88.,  64.],\n",
       "         [ 87., 134.,  58.]]), tensor([[ 56.,  70.],\n",
       "         [ 81., 101.],\n",
       "         [119., 133.]]))"
      ]
     },
     "execution_count": 6,
     "metadata": {},
     "output_type": "execute_result"
    }
   ],
   "source": [
    "# Define dataset\n",
    "dataset = TensorDataset(inputs, targets)\n",
    "dataset[0:3]"
   ]
  },
  {
   "cell_type": "code",
   "execution_count": 7,
   "metadata": {
    "_uuid": "0a2f69126319d738b82ae67d5d404ecd6161bfac",
    "colab": {},
    "colab_type": "code",
    "executionInfo": {
     "elapsed": 2139,
     "status": "ok",
     "timestamp": 1596557526059,
     "user": {
      "displayName": "Prof. Hariom Pandya",
      "photoUrl": "https://lh3.googleusercontent.com/a-/AOh14Ggt3sg6X_951s0boD3SSJvqRng4AQaC3MhTBtGQ9Q=s64",
      "userId": "16159546014304882594"
     },
     "user_tz": -330
    },
    "id": "I-_dMpco-7u-"
   },
   "outputs": [
    {
     "data": {
      "text/plain": [
       "[tensor([[ 69.,  96.,  70.],\n",
       "         [ 69.,  96.,  70.],\n",
       "         [ 73.,  67.,  43.],\n",
       "         [ 91.,  88.,  64.],\n",
       "         [ 87., 134.,  58.]]), tensor([[103., 119.],\n",
       "         [103., 119.],\n",
       "         [ 56.,  70.],\n",
       "         [ 81., 101.],\n",
       "         [119., 133.]])]"
      ]
     },
     "execution_count": 7,
     "metadata": {},
     "output_type": "execute_result"
    }
   ],
   "source": [
    "\n",
    "# Define data loader\n",
    "batch_size = 5\n",
    "DL = DataLoader(dataset, batch_size, shuffle=True)\n",
    "next(iter(DL))"
   ]
  },
  {
   "cell_type": "markdown",
   "metadata": {
    "_uuid": "276a262e1b9e3a048bcd32989013f9c501c59037",
    "colab_type": "text",
    "id": "Dq8gUbVx-7vK"
   },
   "source": [
    "### nn.Linear\n",
    "Instead of initializing the weights & biases manually, we can define the model using `nn.Linear`."
   ]
  },
  {
   "cell_type": "code",
   "execution_count": 8,
   "metadata": {
    "_uuid": "59da3506559a0640d80d18f77b02726a1757be2f",
    "colab": {},
    "colab_type": "code",
    "executionInfo": {
     "elapsed": 2128,
     "status": "ok",
     "timestamp": 1596557526062,
     "user": {
      "displayName": "Prof. Hariom Pandya",
      "photoUrl": "https://lh3.googleusercontent.com/a-/AOh14Ggt3sg6X_951s0boD3SSJvqRng4AQaC3MhTBtGQ9Q=s64",
      "userId": "16159546014304882594"
     },
     "user_tz": -330
    },
    "id": "sKa873ZD-7vN"
   },
   "outputs": [
    {
     "name": "stdout",
     "output_type": "stream",
     "text": [
      "Parameter containing:\n",
      "tensor([[ 0.2410,  0.0927,  0.2201],\n",
      "        [-0.0681,  0.5050,  0.3211]], requires_grad=True)\n",
      "---------\n",
      "Parameter containing:\n",
      "tensor([ 0.4477, -0.3822], requires_grad=True)\n"
     ]
    }
   ],
   "source": [
    "# Define model\n",
    "final_model = nn.Linear(3, 2)\n",
    "print(final_model.weight, end=\"\\n---------\\n\")\n",
    "print(final_model.bias)"
   ]
  },
  {
   "cell_type": "markdown",
   "metadata": {
    "_uuid": "b3a4a8c499a4680f2533329712de034671dd1cdd",
    "colab_type": "text",
    "id": "rku14lz3-7vX"
   },
   "source": [
    "### Optimizer\n",
    "Instead of manually manipulating the weights & biases using gradients, we can use the optimizer `optim.SGD`."
   ]
  },
  {
   "cell_type": "code",
   "execution_count": 9,
   "metadata": {
    "_uuid": "1848398bd1ced8c25a7bb55612cf32a774500280",
    "colab": {},
    "colab_type": "code",
    "executionInfo": {
     "elapsed": 2117,
     "status": "ok",
     "timestamp": 1596557526064,
     "user": {
      "displayName": "Prof. Hariom Pandya",
      "photoUrl": "https://lh3.googleusercontent.com/a-/AOh14Ggt3sg6X_951s0boD3SSJvqRng4AQaC3MhTBtGQ9Q=s64",
      "userId": "16159546014304882594"
     },
     "user_tz": -330
    },
    "id": "Yd4H-T8g-7va"
   },
   "outputs": [],
   "source": [
    "# Define optimizer\n",
    "opt = torch.optim.SGD(final_model.parameters(), lr=1e-5)"
   ]
  },
  {
   "cell_type": "markdown",
   "metadata": {
    "_uuid": "28cbe62be55010bd11b31d819cff38da5a772b18",
    "colab_type": "text",
    "id": "V2ktEA-C-7vl"
   },
   "source": [
    "### Loss Function\n",
    "Instead of defining a loss function manually, we can use the built-in loss function `mse_loss`."
   ]
  },
  {
   "cell_type": "code",
   "execution_count": 10,
   "metadata": {
    "_uuid": "69d7f4e8e27ccd077f711da27f8bede8aa711893",
    "colab": {},
    "colab_type": "code",
    "executionInfo": {
     "elapsed": 2110,
     "status": "ok",
     "timestamp": 1596557526068,
     "user": {
      "displayName": "Prof. Hariom Pandya",
      "photoUrl": "https://lh3.googleusercontent.com/a-/AOh14Ggt3sg6X_951s0boD3SSJvqRng4AQaC3MhTBtGQ9Q=s64",
      "userId": "16159546014304882594"
     },
     "user_tz": -330
    },
    "id": "TF2xmzgO-7vo"
   },
   "outputs": [],
   "source": [
    "# Import nn.functional\n",
    "import torch.nn.functional as F"
   ]
  },
  {
   "cell_type": "code",
   "execution_count": 11,
   "metadata": {
    "_uuid": "a02ff888ed4be720fd9ca376022d8fdcf2559683",
    "colab": {},
    "colab_type": "code",
    "executionInfo": {
     "elapsed": 2099,
     "status": "ok",
     "timestamp": 1596557526070,
     "user": {
      "displayName": "Prof. Hariom Pandya",
      "photoUrl": "https://lh3.googleusercontent.com/a-/AOh14Ggt3sg6X_951s0boD3SSJvqRng4AQaC3MhTBtGQ9Q=s64",
      "userId": "16159546014304882594"
     },
     "user_tz": -330
    },
    "id": "hSgxvr8N-7vz"
   },
   "outputs": [],
   "source": [
    "# Define loss function\n",
    "loss_fn = F.mse_loss"
   ]
  },
  {
   "cell_type": "code",
   "execution_count": 12,
   "metadata": {
    "_uuid": "a540adf76725ea9968025f6c029fdd251bdada6c",
    "colab": {},
    "colab_type": "code",
    "executionInfo": {
     "elapsed": 2087,
     "status": "ok",
     "timestamp": 1596557526072,
     "user": {
      "displayName": "Prof. Hariom Pandya",
      "photoUrl": "https://lh3.googleusercontent.com/a-/AOh14Ggt3sg6X_951s0boD3SSJvqRng4AQaC3MhTBtGQ9Q=s64",
      "userId": "16159546014304882594"
     },
     "user_tz": -330
    },
    "id": "9vyVL5io-7wA"
   },
   "outputs": [
    {
     "name": "stdout",
     "output_type": "stream",
     "text": [
      "tensor(1941.3541, grad_fn=<MseLossBackward>)\n"
     ]
    }
   ],
   "source": [
    "loss = loss_fn(final_model(inputs) , targets)\n",
    "print(loss)"
   ]
  },
  {
   "cell_type": "markdown",
   "metadata": {
    "_uuid": "e833614a69ff18c554a3d89f643ae2f11e0260f6",
    "colab_type": "text",
    "id": "9jbPdkiO-7wM"
   },
   "source": [
    "### Train the model\n",
    "\n",
    "We are ready to train the model now. We can define a utility function `fit` which trains the model for a given number of epochs."
   ]
  },
  {
   "cell_type": "code",
   "execution_count": 13,
   "metadata": {
    "_uuid": "128bc7260221f5338edf8b503c75f0c7d1cce7e8",
    "colab": {},
    "colab_type": "code",
    "executionInfo": {
     "elapsed": 2081,
     "status": "ok",
     "timestamp": 1596557526075,
     "user": {
      "displayName": "Prof. Hariom Pandya",
      "photoUrl": "https://lh3.googleusercontent.com/a-/AOh14Ggt3sg6X_951s0boD3SSJvqRng4AQaC3MhTBtGQ9Q=s64",
      "userId": "16159546014304882594"
     },
     "user_tz": -330
    },
    "id": "zDnWui7g-7wP"
   },
   "outputs": [],
   "source": [
    "# Define a utility function to train the model\n",
    "def fit(num_epochs, final_model, loss_fn, opt):\n",
    "    for epoch in range(num_epochs):\n",
    "        for xb,yb in DL:\n",
    "            # Generate predictions\n",
    "            pred = final_model(xb)\n",
    "            loss = loss_fn(pred,yb)\n",
    "            # Perform gradient descent\n",
    "            loss.backward()\n",
    "            opt.step()\n",
    "            opt.zero_grad()\n",
    "    print('Training loss: ', loss_fn(final_model(inputs), targets))\n"
   ]
  },
  {
   "cell_type": "code",
   "execution_count": 14,
   "metadata": {
    "_uuid": "ae8ca4686cf6a68f6c9ca93bf3d227abe96c2201",
    "colab": {},
    "colab_type": "code",
    "executionInfo": {
     "elapsed": 2073,
     "status": "ok",
     "timestamp": 1596557526078,
     "user": {
      "displayName": "Prof. Hariom Pandya",
      "photoUrl": "https://lh3.googleusercontent.com/a-/AOh14Ggt3sg6X_951s0boD3SSJvqRng4AQaC3MhTBtGQ9Q=s64",
      "userId": "16159546014304882594"
     },
     "user_tz": -330
    },
    "id": "Gd8tiT_q-7wa"
   },
   "outputs": [
    {
     "name": "stdout",
     "output_type": "stream",
     "text": [
      "Training loss:  tensor(17.1124, grad_fn=<MseLossBackward>)\n"
     ]
    }
   ],
   "source": [
    "\n",
    "# Train the model for 100 epochs\n",
    "fit(100 , final_model , loss_fn, opt)"
   ]
  },
  {
   "cell_type": "code",
   "execution_count": 15,
   "metadata": {
    "_uuid": "32588a47d0478772a1f08fa55874a322630bd0b6",
    "colab": {},
    "colab_type": "code",
    "executionInfo": {
     "elapsed": 2065,
     "status": "ok",
     "timestamp": 1596557526080,
     "user": {
      "displayName": "Prof. Hariom Pandya",
      "photoUrl": "https://lh3.googleusercontent.com/a-/AOh14Ggt3sg6X_951s0boD3SSJvqRng4AQaC3MhTBtGQ9Q=s64",
      "userId": "16159546014304882594"
     },
     "user_tz": -330
    },
    "id": "c3Bf-Emn-7wj"
   },
   "outputs": [
    {
     "data": {
      "text/plain": [
       "tensor([[ 58.5846,  71.0958],\n",
       "        [ 81.5533,  98.6889],\n",
       "        [117.8931, 136.6940],\n",
       "        [ 28.7413,  41.3128],\n",
       "        [ 96.4016, 113.0720],\n",
       "        [ 58.5846,  71.0958],\n",
       "        [ 81.5533,  98.6889],\n",
       "        [117.8931, 136.6940],\n",
       "        [ 28.7413,  41.3128],\n",
       "        [ 96.4016, 113.0720],\n",
       "        [ 58.5846,  71.0958],\n",
       "        [ 81.5533,  98.6889],\n",
       "        [117.8931, 136.6940],\n",
       "        [ 28.7413,  41.3128],\n",
       "        [ 96.4016, 113.0720]], grad_fn=<AddmmBackward>)"
      ]
     },
     "execution_count": 15,
     "metadata": {},
     "output_type": "execute_result"
    }
   ],
   "source": [
    "\n",
    "# Generate predictions\n",
    "preds = final_model(inputs)\n",
    "preds"
   ]
  },
  {
   "cell_type": "code",
   "execution_count": 16,
   "metadata": {
    "_uuid": "12d757c0f37c2e3af65cf9d4b59878cc10c65acf",
    "colab": {},
    "colab_type": "code",
    "executionInfo": {
     "elapsed": 2659,
     "status": "ok",
     "timestamp": 1596557526686,
     "user": {
      "displayName": "Prof. Hariom Pandya",
      "photoUrl": "https://lh3.googleusercontent.com/a-/AOh14Ggt3sg6X_951s0boD3SSJvqRng4AQaC3MhTBtGQ9Q=s64",
      "userId": "16159546014304882594"
     },
     "user_tz": -330
    },
    "id": "_gDGmiHl-7wr"
   },
   "outputs": [
    {
     "data": {
      "text/plain": [
       "tensor([[ 56.,  70.],\n",
       "        [ 81., 101.],\n",
       "        [119., 133.],\n",
       "        [ 22.,  37.],\n",
       "        [103., 119.],\n",
       "        [ 56.,  70.],\n",
       "        [ 81., 101.],\n",
       "        [119., 133.],\n",
       "        [ 22.,  37.],\n",
       "        [103., 119.],\n",
       "        [ 56.,  70.],\n",
       "        [ 81., 101.],\n",
       "        [119., 133.],\n",
       "        [ 22.,  37.],\n",
       "        [103., 119.]])"
      ]
     },
     "execution_count": 16,
     "metadata": {},
     "output_type": "execute_result"
    }
   ],
   "source": [
    "# Compare with targets\n",
    "targets"
   ]
  },
  {
   "cell_type": "markdown",
   "metadata": {
    "_uuid": "2448d9832722f4f2813f8bd80b91daefd901dc2e",
    "colab_type": "text",
    "id": "b9nvUidI-7xD"
   },
   "source": [
    "Now we can define the model, optimizer and loss function exactly as before."
   ]
  },
  {
   "cell_type": "code",
   "execution_count": 17,
   "metadata": {
    "_uuid": "e94de6868c76803a998c1c1934ed229c826f3b8c",
    "colab": {},
    "colab_type": "code",
    "executionInfo": {
     "elapsed": 2651,
     "status": "ok",
     "timestamp": 1596557526688,
     "user": {
      "displayName": "Prof. Hariom Pandya",
      "photoUrl": "https://lh3.googleusercontent.com/a-/AOh14Ggt3sg6X_951s0boD3SSJvqRng4AQaC3MhTBtGQ9Q=s64",
      "userId": "16159546014304882594"
     },
     "user_tz": -330
    },
    "id": "d3esiKz3-7xT"
   },
   "outputs": [
    {
     "name": "stdout",
     "output_type": "stream",
     "text": [
      "Training loss:  tensor(5.5080, grad_fn=<MseLossBackward>)\n"
     ]
    }
   ],
   "source": [
    "fit(100 , final_model , loss_fn, opt)"
   ]
  },
  {
   "cell_type": "markdown",
   "metadata": {
    "colab_type": "text",
    "id": "eAyCq48TMlWJ"
   },
   "source": [
    "## Exercise 1:\n",
    " Try Linear Regression just using numpy (Without Tensorflow/Pytorch or other torch library). You can optionally use sklearn (if you want)\n",
    " \n",
    " \n",
    "## Exercise 2:\n",
    " Try Linear regression on same prediction data using Tensorflow\n",
    "\n",
    " "
   ]
  },
  {
   "cell_type": "code",
   "execution_count": 18,
   "metadata": {},
   "outputs": [],
   "source": [
    "# Input (temp, rainfall, humidity)\n",
    "inputs = np.array([[73, 67, 43], [91, 88, 64], [87, 134, 58], [102, 43, 37], [69, 96, 70], [73, 67, 43], [91, 88, 64], [87, 134, 58], [102, 43, 37], [69, 96, 70], [73, 67, 43], [91, 88, 64], [87, 134, 58], [102, 43, 37], [69, 96, 70]], dtype='float32')\n",
    "# Targets (apples, oranges)\n",
    "targets = np.array([[56, 70], [81, 101], [119, 133], [22, 37], [103, 119], \n",
    "                    [56, 70], [81, 101], [119, 133], [22, 37], [103, 119], \n",
    "                    [56, 70], [81, 101], [119, 133], [22, 37], [103, 119]], dtype='float32')\n",
    "\n",
    "x_shape = inputs.shape"
   ]
  },
  {
   "cell_type": "code",
   "execution_count": 19,
   "metadata": {},
   "outputs": [
    {
     "name": "stdout",
     "output_type": "stream",
     "text": [
      "Weights:\n",
      "[[0.04434255 0.38897932 0.53830319]\n",
      " [0.13255347 0.43567721 0.33309745]]\n",
      "Biases:\n",
      "[[0.1484719  0.96984244]\n",
      " [0.67358485 0.50747122]\n",
      " [0.64699587 0.72921251]\n",
      " [0.3064264  0.65087561]\n",
      " [0.97770648 0.57159369]\n",
      " [0.84436029 0.74716892]\n",
      " [0.9855936  0.23312284]\n",
      " [0.11325332 0.50405813]\n",
      " [0.12989206 0.4028688 ]\n",
      " [0.45857084 0.84849663]\n",
      " [0.7901087  0.45161009]\n",
      " [0.08587349 0.16546801]\n",
      " [0.57687987 0.55179487]\n",
      " [0.76253231 0.68899551]\n",
      " [0.52030998 0.1985776 ]]\n"
     ]
    }
   ],
   "source": [
    "\n",
    "# weights and biases\n",
    "weights = np.random.rand(2,3)\n",
    "biases = np.random.rand(15,2)\n",
    "print(\"Weights:\",weights,sep='\\n')\n",
    "print(\"Biases:\",biases,sep=\"\\n\")"
   ]
  },
  {
   "cell_type": "code",
   "execution_count": 20,
   "metadata": {},
   "outputs": [],
   "source": [
    "# Define the model\n",
    "def model(x):\n",
    "    return x @ np.transpose(weights) + biases"
   ]
  },
  {
   "cell_type": "code",
   "execution_count": 21,
   "metadata": {},
   "outputs": [],
   "source": [
    "\n",
    "# Generate predictions\n",
    "preds = model(inputs)"
   ]
  },
  {
   "cell_type": "code",
   "execution_count": 22,
   "metadata": {},
   "outputs": [
    {
     "name": "stdout",
     "output_type": "stream",
     "text": [
      "Predictions : \n",
      "[[52.59413002 54.15980924]\n",
      " [73.39034171 72.22766839]\n",
      " [87.84961193 89.96176264]\n",
      " [41.47269582 45.23005535]\n",
      " [79.06058084 74.8596169 ]\n",
      " [53.29001841 53.93713573]\n",
      " [73.70235045 71.95332001]\n",
      " [87.31586938 89.73660826]\n",
      " [41.29616148 44.98204854]\n",
      " [78.5414452  75.13651984]\n",
      " [53.23576682 53.6415769 ]\n",
      " [72.80263035 71.88566518]\n",
      " [87.77949593 89.784345  ]\n",
      " [41.92880173 45.26817525]\n",
      " [78.60318434 74.48660081]]\n",
      "Targets : \n",
      "[[ 56.  70.]\n",
      " [ 81. 101.]\n",
      " [119. 133.]\n",
      " [ 22.  37.]\n",
      " [103. 119.]\n",
      " [ 56.  70.]\n",
      " [ 81. 101.]\n",
      " [119. 133.]\n",
      " [ 22.  37.]\n",
      " [103. 119.]\n",
      " [ 56.  70.]\n",
      " [ 81. 101.]\n",
      " [119. 133.]\n",
      " [ 22.  37.]\n",
      " [103. 119.]]\n"
     ]
    }
   ],
   "source": [
    "# Compare with targets\n",
    "print(\"Predictions : \", preds, sep=\"\\n\")\n",
    "print(\"Targets : \",targets, sep=\"\\n\")"
   ]
  },
  {
   "cell_type": "code",
   "execution_count": 23,
   "metadata": {},
   "outputs": [],
   "source": [
    "# MSE loss\n",
    "def mse(t1, t2):\n",
    "    diff = t1 - t2\n",
    "    return np.sum(diff * diff) / len(diff)"
   ]
  },
  {
   "cell_type": "code",
   "execution_count": 24,
   "metadata": {},
   "outputs": [
    {
     "name": "stdout",
     "output_type": "stream",
     "text": [
      "1400.6708077743344\n"
     ]
    }
   ],
   "source": [
    "# Compute loss\n",
    "loss = mse(preds, targets)\n",
    "print(loss)"
   ]
  },
  {
   "cell_type": "code",
   "execution_count": 25,
   "metadata": {},
   "outputs": [
    {
     "name": "stdout",
     "output_type": "stream",
     "text": [
      "weights_grad:\n",
      "[[-1329.23174423 -2626.11344173 -1365.27416181]\n",
      " [-3913.16383743 -5321.06330414 -3136.18910018]]\n",
      "biases_grad:\n",
      "[[-0.454116   -2.11202543]\n",
      " [-1.01462111 -3.83631088]\n",
      " [-4.15338508 -5.73843165]\n",
      " [ 2.59635944  1.09734071]\n",
      " [-3.19192256 -5.88538441]\n",
      " [-0.36133088 -2.14171524]\n",
      " [-0.97301994 -3.87289066]\n",
      " [-4.22455075 -5.76845223]\n",
      " [ 2.57282153  1.06427314]\n",
      " [-3.26114064 -5.84846402]\n",
      " [-0.36856442 -2.18112308]\n",
      " [-1.09298262 -3.88191131]\n",
      " [-4.16273388 -5.76208733]\n",
      " [ 2.65717356  1.10242337]\n",
      " [-3.25290876 -5.93511989]]\n"
     ]
    }
   ],
   "source": [
    "# compute gradients\n",
    "biases_grad = (preds-targets)*2/x_shape[0]\n",
    "weights_grad = (np.matmul(np.transpose((preds-targets)),inputs))*2/x_shape[0]\n",
    "\n",
    "print(\"weights_grad:\",weights_grad, sep=\"\\n\")\n",
    "print(\"biases_grad:\",biases_grad, sep=\"\\n\")"
   ]
  },
  {
   "cell_type": "markdown",
   "metadata": {},
   "source": [
    "Adjust weights"
   ]
  },
  {
   "cell_type": "code",
   "execution_count": 26,
   "metadata": {},
   "outputs": [],
   "source": [
    "# Adjust weights\n",
    "weights -= weights_grad * 1e-5\n",
    "biases -= biases_grad * 1e-5"
   ]
  },
  {
   "cell_type": "code",
   "execution_count": 27,
   "metadata": {},
   "outputs": [
    {
     "name": "stdout",
     "output_type": "stream",
     "text": [
      "Weights:\n",
      "[[0.05763487 0.41524045 0.55195594]\n",
      " [0.17168511 0.48888784 0.36445935]]\n",
      "Biases:\n",
      "[[0.14847644 0.96986356]\n",
      " [0.673595   0.50750958]\n",
      " [0.6470374  0.72926989]\n",
      " [0.30640043 0.65086464]\n",
      " [0.9777384  0.57165254]\n",
      " [0.84436391 0.74719034]\n",
      " [0.98560333 0.23316157]\n",
      " [0.11329557 0.50411582]\n",
      " [0.12986634 0.40285816]\n",
      " [0.45860345 0.84855511]\n",
      " [0.79011238 0.4516319 ]\n",
      " [0.08588442 0.16550683]\n",
      " [0.5769215  0.55185249]\n",
      " [0.76250574 0.68898449]\n",
      " [0.52034251 0.19863695]]\n"
     ]
    }
   ],
   "source": [
    "print(\"Weights:\",weights,sep='\\n')\n",
    "print(\"Biases:\",biases,sep=\"\\n\")"
   ]
  },
  {
   "cell_type": "code",
   "execution_count": 28,
   "metadata": {},
   "outputs": [
    {
     "name": "stdout",
     "output_type": "stream",
     "text": [
      "873.160924022737\n"
     ]
    }
   ],
   "source": [
    "# Calculate loss\n",
    "preds = model(inputs)\n",
    "loss = mse(preds, targets)\n",
    "print(loss)"
   ]
  },
  {
   "cell_type": "code",
   "execution_count": 29,
   "metadata": {},
   "outputs": [],
   "source": [
    "# repeating same for 200 times\n",
    "for i in range(200):\n",
    "    preds = model(inputs)\n",
    "    loss = mse(preds, targets)\n",
    "    \n",
    "    biases_grad = ((((inputs@np.transpose(weights))+biases)-targets))*2/x_shape[0]\n",
    "    weights_grad = (np.matmul(np.transpose((((inputs@np.transpose(weights))+biases)-targets)),inputs))*2/x_shape[0]\n",
    "\n",
    "    weights -= weights_grad * 1e-5\n",
    "    biases -= biases_grad * 1e-5"
   ]
  },
  {
   "cell_type": "code",
   "execution_count": 30,
   "metadata": {},
   "outputs": [
    {
     "name": "stdout",
     "output_type": "stream",
     "text": [
      "15.195321686791628\n"
     ]
    }
   ],
   "source": [
    "# Calculate loss\n",
    "preds = model(inputs)\n",
    "loss = mse(preds, targets)\n",
    "print(loss)"
   ]
  },
  {
   "cell_type": "code",
   "execution_count": 31,
   "metadata": {},
   "outputs": [
    {
     "name": "stdout",
     "output_type": "stream",
     "text": [
      "[[ 57.31285048  71.46967451]\n",
      " [ 82.27927569  98.59176342]\n",
      " [118.10152011 136.63075028]\n",
      " [ 23.39365902  40.59149012]\n",
      " [100.87130825 113.69396378]\n",
      " [ 58.0085524   71.24706067]\n",
      " [ 82.59120083  98.31748855]\n",
      " [117.56792059 136.40565623]\n",
      " [ 23.217172    40.34354977]\n",
      " [100.35231172 113.97079252]\n",
      " [ 57.95431534  70.95158103]\n",
      " [ 81.69172181  98.24985185]\n",
      " [118.03142291 136.45338018]\n",
      " [ 23.84964271  40.62959981]\n",
      " [100.41403432 113.32104765]]\n"
     ]
    }
   ],
   "source": [
    "# Print predictions\n",
    "print(preds)"
   ]
  },
  {
   "cell_type": "code",
   "execution_count": 32,
   "metadata": {},
   "outputs": [
    {
     "name": "stdout",
     "output_type": "stream",
     "text": [
      "[[ 56.  70.]\n",
      " [ 81. 101.]\n",
      " [119. 133.]\n",
      " [ 22.  37.]\n",
      " [103. 119.]\n",
      " [ 56.  70.]\n",
      " [ 81. 101.]\n",
      " [119. 133.]\n",
      " [ 22.  37.]\n",
      " [103. 119.]\n",
      " [ 56.  70.]\n",
      " [ 81. 101.]\n",
      " [119. 133.]\n",
      " [ 22.  37.]\n",
      " [103. 119.]]\n"
     ]
    }
   ],
   "source": [
    "# Print targets\n",
    "print(targets)"
   ]
  },
  {
   "cell_type": "code",
   "execution_count": null,
   "metadata": {},
   "outputs": [],
   "source": []
  }
 ],
 "metadata": {
  "colab": {
   "name": "2-linear-regression-pytorch.ipynb",
   "provenance": []
  },
  "kernelspec": {
   "display_name": "Python 3",
   "language": "python",
   "name": "python3"
  },
  "language_info": {
   "codemirror_mode": {
    "name": "ipython",
    "version": 3
   },
   "file_extension": ".py",
   "mimetype": "text/x-python",
   "name": "python",
   "nbconvert_exporter": "python",
   "pygments_lexer": "ipython3",
   "version": "3.8.3"
  }
 },
 "nbformat": 4,
 "nbformat_minor": 1
}
