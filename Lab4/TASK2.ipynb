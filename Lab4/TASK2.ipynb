{
 "cells": [
  {
   "cell_type": "markdown",
   "metadata": {
    "id": "pICp1Lifbmj-"
   },
   "source": [
    "**6) 126<=Rollnumber + All with No RollNumbers:**\n",
    "  #Task 1: Try the algo on Same Whether dataset - LabelEncoding of features:and Train test Division 95%-5%\n",
    "\n",
    "  #Task 2: Apply algorithm on wine dataset - LabelEncoding of features: and Train test Division 66%-34%\n",
    "  \n",
    "\n",
    "\n",
    "**Instruction for Task-1 & 2:**\n",
    "\n",
    "i) Set Random state and maximum allowed leaf of model equals to your roll number (or last 2 digit of your id -if you don't have roll number)\n",
    "\n",
    "\n",
    "**Questions: For Task - 1**\n",
    "\n",
    "(1) What will be the value of Play, if Outlook is ’Rainy’, Temperature is ’Mild’, Humidity =’Normal’, and Wind = ’False’?\n",
    "\n",
    "(2) What will be the value of Play, if Outlook is ’Sunny’, Temeprature is ’Cool’, Humidity =’High’, and Wind = ’True’?\n",
    "\n",
    "(3) Accuracy , precision and recall of both Models?\n"
   ]
  },
  {
   "cell_type": "code",
   "execution_count": 1,
   "metadata": {
    "id": "UrL7Q9RJbpsB"
   },
   "outputs": [],
   "source": [
    "# Step 1: Import necessary libraries\n",
    "from sklearn import preprocessing,tree,metrics,datasets\n",
    "from sklearn.tree import DecisionTreeClassifier\n",
    "import pandas as pd\n",
    "from sklearn.model_selection import train_test_split"
   ]
  },
  {
   "cell_type": "code",
   "execution_count": 2,
   "metadata": {
    "id": "U94-j8rOcCQd"
   },
   "outputs": [],
   "source": [
    "dataset = datasets.load_wine()\n",
    "# print(dataset)"
   ]
  },
  {
   "cell_type": "code",
   "execution_count": 3,
   "metadata": {
    "colab": {
     "base_uri": "https://localhost:8080/"
    },
    "id": "Y0MUBnkFcRDL",
    "outputId": "414d5a34-f3aa-4ec4-dbac-a6e10261df60"
   },
   "outputs": [
    {
     "name": "stdout",
     "output_type": "stream",
     "text": [
      "[Features,Label]\n",
      "Length of Train Set: 117 117\n",
      "\n",
      "Length of Test Set: 61 61\n"
     ]
    }
   ],
   "source": [
    "# roll no 127\n",
    "# random state = 127\n",
    "# test = 34%\n",
    "train_data,test_data,train_label,test_label = train_test_split(dataset.data,dataset.target,random_state=127,test_size=0.34)\n",
    "print(\"[Features,Label]\\nLength of Train Set:\",len(train_data),len(train_label))\n",
    "print(\"\\nLength of Test Set:\",len(test_data),len(test_label))"
   ]
  },
  {
   "cell_type": "code",
   "execution_count": 4,
   "metadata": {
    "colab": {
     "base_uri": "https://localhost:8080/"
    },
    "id": "FSk_k9b4c8PZ",
    "outputId": "eee2bbad-e1b5-4dc2-eb9e-5341d357efba"
   },
   "outputs": [
    {
     "data": {
      "text/plain": [
       "DecisionTreeClassifier(criterion='entropy', max_leaf_nodes=127)"
      ]
     },
     "execution_count": 4,
     "metadata": {},
     "output_type": "execute_result"
    }
   ],
   "source": [
    "entropy=DecisionTreeClassifier(criterion='entropy',max_leaf_nodes=127)\n",
    "entropy.fit(train_data,train_label)"
   ]
  },
  {
   "cell_type": "code",
   "execution_count": 5,
   "metadata": {
    "colab": {
     "base_uri": "https://localhost:8080/"
    },
    "id": "mhD1Ptx3c_Hz",
    "outputId": "340b2537-d566-4bb7-ab9f-4dcd8bfd057e"
   },
   "outputs": [
    {
     "name": "stdout",
     "output_type": "stream",
     "text": [
      "[1 2 1 1 2 0 1 2 0 0 0 0 1 1 0 1 0 1 0 1 0 0 0 0 0 1 1 0 2 0 0 2 2 2 1 2 1\n",
      " 1 2 1 1 1 0 0 0 2 0 1 1 0 1 2 0 0 2 0 1 2 2 1 1]\n"
     ]
    }
   ],
   "source": [
    "pred=entropy.predict(test_data)\n",
    "print(pred)"
   ]
  },
  {
   "cell_type": "code",
   "execution_count": 6,
   "metadata": {
    "colab": {
     "base_uri": "https://localhost:8080/",
     "height": 534
    },
    "id": "PpYiv-OQdFrS",
    "outputId": "3d8f3532-5c14-4deb-c318-9da85d5ed15f"
   },
   "outputs": [
    {
     "data": {
      "text/plain": [
       "[Text(136.96363636363637, 195.696, 'X[6] <= 1.58\\nentropy = 1.579\\nsamples = 117\\nvalue = [37, 44, 36]'),\n",
       " Text(60.872727272727275, 152.208, 'X[9] <= 3.725\\nentropy = 0.684\\nsamples = 44\\nvalue = [0, 8, 36]'),\n",
       " Text(30.436363636363637, 108.72, 'entropy = 0.0\\nsamples = 8\\nvalue = [0, 8, 0]'),\n",
       " Text(91.30909090909091, 108.72, 'entropy = 0.0\\nsamples = 36\\nvalue = [0, 0, 36]'),\n",
       " Text(213.05454545454546, 152.208, 'X[12] <= 755.0\\nentropy = 1.0\\nsamples = 73\\nvalue = [37, 36, 0]'),\n",
       " Text(152.1818181818182, 108.72, 'X[0] <= 13.175\\nentropy = 0.303\\nsamples = 37\\nvalue = [2, 35, 0]'),\n",
       " Text(121.74545454545455, 65.232, 'entropy = 0.0\\nsamples = 33\\nvalue = [0, 33, 0]'),\n",
       " Text(182.61818181818182, 65.232, 'X[9] <= 4.06\\nentropy = 1.0\\nsamples = 4\\nvalue = [2, 2, 0]'),\n",
       " Text(152.1818181818182, 21.744, 'entropy = 0.0\\nsamples = 2\\nvalue = [0, 2, 0]'),\n",
       " Text(213.05454545454546, 21.744, 'entropy = 0.0\\nsamples = 2\\nvalue = [2, 0, 0]'),\n",
       " Text(273.92727272727274, 108.72, 'X[7] <= 0.15\\nentropy = 0.183\\nsamples = 36\\nvalue = [35, 1, 0]'),\n",
       " Text(243.4909090909091, 65.232, 'entropy = 0.0\\nsamples = 1\\nvalue = [0, 1, 0]'),\n",
       " Text(304.3636363636364, 65.232, 'entropy = 0.0\\nsamples = 35\\nvalue = [35, 0, 0]')]"
      ]
     },
     "execution_count": 6,
     "metadata": {},
     "output_type": "execute_result"
    },
    {
     "data": {
      "image/png": "[encoded data removed]",
      "text/plain": [
       "<Figure size 432x288 with 1 Axes>"
      ]
     },
     "metadata": {
      "needs_background": "light"
     },
     "output_type": "display_data"
    }
   ],
   "source": [
    "tree.plot_tree(entropy,filled=True)"
   ]
  },
  {
   "cell_type": "code",
   "execution_count": 7,
   "metadata": {
    "colab": {
     "base_uri": "https://localhost:8080/"
    },
    "id": "-1GI3gpjdJZw",
    "outputId": "27a4f7ca-da25-4165-9131-0d1bf5292c31"
   },
   "outputs": [
    {
     "name": "stdout",
     "output_type": "stream",
     "text": [
      "Accuracy: 0.9344262295081968\n",
      "\n",
      "Precision: 0.9344262295081968\n",
      "\n",
      "Recall: 0.9344262295081968\n"
     ]
    }
   ],
   "source": [
    "print(\"Accuracy:\",metrics.accuracy_score(test_label,pred))\n",
    "print(\"\\nPrecision:\",metrics.precision_score(test_label,pred,average='micro'))\n",
    "print(\"\\nRecall:\",metrics.recall_score(test_label,pred,average='micro'))"
   ]
  },
  {
   "cell_type": "code",
   "execution_count": 8,
   "metadata": {
    "colab": {
     "base_uri": "https://localhost:8080/",
     "height": 296
    },
    "id": "SUmrGO3JdOHs",
    "outputId": "d16284ab-9fde-4873-f0bc-7c9e7d5657f6"
   },
   "outputs": [
    {
     "data": {
      "text/plain": [
       "<sklearn.metrics._plot.confusion_matrix.ConfusionMatrixDisplay at 0x229fa7c13a0>"
      ]
     },
     "execution_count": 8,
     "metadata": {},
     "output_type": "execute_result"
    },
    {
     "data": {
      "image/png": "[encoded data removed]",
      "text/plain": [
       "<Figure size 432x288 with 2 Axes>"
      ]
     },
     "metadata": {
      "needs_background": "light"
     },
     "output_type": "display_data"
    }
   ],
   "source": [
    "metrics.plot_confusion_matrix(entropy,test_data,test_label)"
   ]
  },
  {
   "cell_type": "code",
   "execution_count": null,
   "metadata": {},
   "outputs": [],
   "source": []
  }
 ],
 "metadata": {
  "colab": {
   "collapsed_sections": [],
   "name": "126LAB4TASK2.ipynb",
   "provenance": []
  },
  "kernelspec": {
   "display_name": "Python 3",
   "language": "python",
   "name": "python3"
  },
  "language_info": {
   "codemirror_mode": {
    "name": "ipython",
    "version": 3
   },
   "file_extension": ".py",
   "mimetype": "text/x-python",
   "name": "python",
   "nbconvert_exporter": "python",
   "pygments_lexer": "ipython3",
   "version": "3.8.3"
  }
 },
 "nbformat": 4,
 "nbformat_minor": 1
}
